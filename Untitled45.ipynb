{
  "nbformat": 4,
  "nbformat_minor": 0,
  "metadata": {
    "colab": {
      "name": "Untitled45.ipynb",
      "provenance": [],
      "collapsed_sections": [],
      "mount_file_id": "1cvwtxqnvuUUf6zcPDfPij9x-BFGNl7pZ",
      "authorship_tag": "ABX9TyNPpxW6b2UA0VkYZB8HoFdL",
      "include_colab_link": true
    },
    "kernelspec": {
      "name": "python3",
      "display_name": "Python 3"
    },
    "language_info": {
      "name": "python"
    },
    "accelerator": "GPU",
    "gpuClass": "standard"
  },
  "cells": [
    {
      "cell_type": "markdown",
      "metadata": {
        "id": "view-in-github",
        "colab_type": "text"
      },
      "source": [
        "<a href=\"https://colab.research.google.com/github/pyosungkook/HJgame/blob/main/Untitled45.ipynb\" target=\"_parent\"><img src=\"https://colab.research.google.com/assets/colab-badge.svg\" alt=\"Open In Colab\"/></a>"
      ]
    },
    {
      "cell_type": "code",
      "execution_count": 1,
      "metadata": {
        "colab": {
          "base_uri": "https://localhost:8080/"
        },
        "id": "5LCxfWYakva6",
        "outputId": "c308860d-04fb-47be-c415-44266c749391"
      },
      "outputs": [
        {
          "output_type": "stream",
          "name": "stdout",
          "text": [
            "/content\n",
            "Cloning into 'Korean_license_plate_recognition'...\n",
            "remote: Enumerating objects: 190, done.\u001b[K\n",
            "remote: Counting objects: 100% (41/41), done.\u001b[K\n",
            "remote: Compressing objects: 100% (15/15), done.\u001b[K\n",
            "remote: Total 190 (delta 31), reused 26 (delta 26), pack-reused 149\u001b[K\n",
            "Receiving objects: 100% (190/190), 8.21 MiB | 11.85 MiB/s, done.\n",
            "Resolving deltas: 100% (66/66), done.\n"
          ]
        }
      ],
      "source": [
        "%cd /content\n",
        "!git clone https://github.com/RoadoneP/Korean_license_plate_recognition"
      ]
    },
    {
      "cell_type": "code",
      "source": [
        "%cd /content/Korean_license_plate_recognition"
      ],
      "metadata": {
        "colab": {
          "base_uri": "https://localhost:8080/"
        },
        "id": "iAplfJL8mLEZ",
        "outputId": "204fa55d-ef22-450b-ddad-b77a156b6161"
      },
      "execution_count": 3,
      "outputs": [
        {
          "output_type": "stream",
          "name": "stdout",
          "text": [
            "/content/Korean_license_plate_recognition\n"
          ]
        }
      ]
    },
    {
      "cell_type": "code",
      "source": [
        "!python save_model.py --weights ./data/yolov4-ANPR.weights --output ./checkpoints/yolov4-416 --input_size 416 --model yolov4"
      ],
      "metadata": {
        "id": "1Y3RqsOC90qo"
      },
      "execution_count": null,
      "outputs": []
    },
    {
      "cell_type": "code",
      "source": [
        "!python detect.py --weights ./checkpoints/yolov4-416 --size 416 --model yolov4 --image ./data/images/car3.png --lpr"
      ],
      "metadata": {
        "colab": {
          "base_uri": "https://localhost:8080/"
        },
        "id": "tXSJsp3yc7Cy",
        "outputId": "5ccff54c-a1ec-4e1f-9d49-549e68f4577f"
      },
      "execution_count": 14,
      "outputs": [
        {
          "output_type": "stream",
          "name": "stdout",
          "text": [
            "Cropped LP images in './detections/crop/car3' folder location.\n",
            "[{'inOut': 'out',\n",
            "  'location': 'A1'},\n",
            " {'carNum': '3635407',\n",
            "  'credit': 0.38363203406333923,\n",
            "  'disabled': 0,\n",
            "  'electric': 0,\n",
            "  'inOut': 'in',\n",
            "  'location': 'A2'},\n",
            " {'inOut': 'out',\n",
            "  'location': 'A3'}]\n"
          ]
        }
      ]
    },
    {
      "cell_type": "code",
      "source": [
        ""
      ],
      "metadata": {
        "id": "aUnRCnzMgd05"
      },
      "execution_count": null,
      "outputs": []
    }
  ]
}